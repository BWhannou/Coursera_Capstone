{
    "cells": [
        {
            "cell_type": "markdown",
            "metadata": {
                "collapsed": true
            },
            "source": "# First Assignment"
        },
        {
            "cell_type": "markdown",
            "metadata": {},
            "source": "# First question"
        },
        {
            "cell_type": "markdown",
            "metadata": {},
            "source": "The objective of this code is to scrape a wikipedia page (https://en.wikipedia.org/wiki/List_of_postal_codes_of_Canada:_M) in order to get the boroughs and neighboroughs in Toronto "
        },
        {
            "cell_type": "code",
            "execution_count": 2,
            "metadata": {},
            "outputs": [],
            "source": "import requests"
        },
        {
            "cell_type": "code",
            "execution_count": 33,
            "metadata": {},
            "outputs": [],
            "source": "url = \"https://en.wikipedia.org/wiki/List_of_postal_codes_of_Canada:_M\"\nresponse = requests.get(url=\"https://en.wikipedia.org/w/index.php?title=List_of_postal_codes_of_Canada:_M&action=edit\")"
        },
        {
            "cell_type": "code",
            "execution_count": 34,
            "metadata": {},
            "outputs": [
                {
                    "data": {
                        "text/plain": "200"
                    },
                    "execution_count": 34,
                    "metadata": {},
                    "output_type": "execute_result"
                }
            ],
            "source": "response.status_code"
        },
        {
            "cell_type": "code",
            "execution_count": 55,
            "metadata": {},
            "outputs": [],
            "source": "data_info = response.text.split(\"{\")[16].split(\"\\n\")[5:]"
        },
        {
            "cell_type": "code",
            "execution_count": 70,
            "metadata": {},
            "outputs": [
                {
                    "data": {
                        "text/plain": "['| M1A', '| Not assigned', '| ', '|-', '| M2A', '| Not assigned', '| ', '|-']"
                    },
                    "execution_count": 70,
                    "metadata": {},
                    "output_type": "execute_result"
                }
            ],
            "source": "data_info[0:8]"
        },
        {
            "cell_type": "code",
            "execution_count": 75,
            "metadata": {},
            "outputs": [],
            "source": "Postal_code=list()\nBorough=list()\nNeighborhood=list()\n\nfor i in range(0,len(data_info),4):\n    Postal_code = Postal_code + [data_info[i].replace(\"| \",\"\")]\n    Borough = Borough + [data_info[i+1].replace(\"| \",\"\")]\n    Neighborhood = Neighborhood + [data_info[i+1].replace(\"| \",\"\")]"
        },
        {
            "cell_type": "code",
            "execution_count": 71,
            "metadata": {},
            "outputs": [
                {
                    "data": {
                        "text/plain": "'uo'"
                    },
                    "execution_count": 71,
                    "metadata": {},
                    "output_type": "execute_result"
                }
            ],
            "source": "pd.DataFrame({\"Postal code\":Postal_code})"
        }
    ],
    "metadata": {
        "kernelspec": {
            "display_name": "Python 3.6",
            "language": "python",
            "name": "python3"
        },
        "language_info": {
            "codemirror_mode": {
                "name": "ipython",
                "version": 3
            },
            "file_extension": ".py",
            "mimetype": "text/x-python",
            "name": "python",
            "nbconvert_exporter": "python",
            "pygments_lexer": "ipython3",
            "version": "3.6.9"
        }
    },
    "nbformat": 4,
    "nbformat_minor": 1
}