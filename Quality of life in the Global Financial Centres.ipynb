{
    "cells": [
        {
            "cell_type": "markdown",
            "metadata": {
                "collapsed": true
            },
            "source": "# Capstone Project: The quality of life in International Financial Centres\n### Applied Data Science Capstone IBM/Coursera"
        },
        {
            "cell_type": "markdown",
            "metadata": {},
            "source": "## Table of contents\n* [Introduction: Background and Interest](#introduction)\n* [Data sourcing](#data)"
        },
        {
            "cell_type": "markdown",
            "metadata": {},
            "source": "## Introduction: Background and Interest <a name=\"introduction\"></a>"
        },
        {
            "cell_type": "markdown",
            "metadata": {},
            "source": "What is a Financial Centre? It is an area with a high concentration and diversity of financial services. Some of those services are:\n\n* Banking services (commercial, investments, securities exchanges)\n* Insurance\n* Tax planning\n* Fund management\n\nThe Financial Institutions (FI) that populate those areas have on their liabilities, funds from suppliers located in various part of the world. Moreover, their counterparties (to whom they lend money, for example) are indistinguishable between resident and non-resident. In other words, on both sides of their balance sheet, the external exposure has a higher weight than the domestic one. The IMF (International Monetary Funds) defines three categories of FC:\n\n* **International Financial Centres (IFC)**: are large international **full-service** centers with **advanced settlement and payments systems**, supporting large domestic economies, with deep and liquid markets where both **the sources and uses of funds are diverse**, and where legal and regulatory frameworks are adequate to safeguard the integrity of principal-agent relationships and supervisory functions.\n\n* **Regional Financial Centres (RFC)**: differ from the first category, in that they have developed financial markets and infrastructure and intermediate funds in and out of their region, but have relatively small domestic economies.\n\n* **Offshore Financial Centres (OFC)**: can be defined as a third category that are mainly much smaller, and provide more limited specialist services.\n\nSo according to this definition, three traits make a Financial Centre: full-service, advanced settlement and payments systems and a high diversity of the sources and uses of funds. From this definition, we can already identify some IFC and RFC. On one hand, London, New York and Tokyo would be classify as IFC. On the other hand, Hong Kong (\u9999\u6e2f) and Singapore (\u65b0\u52a0\u5761) would be classify as RFC due to their small domestic economies. *(for the remainder of this analysis, we will not distinguish IFC and RFC by calling both of them IFC)*\n\nHowever, some disrupting events have fallen upon some of these IFCs specifically. Indeed, we can mention the **Brexit** which may (or may not) put an end to the hegemony of London among the European IFCs; or the Hong Kong protests which could undermine the \"fragance harbor\". And what about the consequences of the health crisis we are currently facing? Will it provoke some cities to fall from the IFC status and other to fall from it?\n\nThe Global Financial Centres Index identifies five (5) axis (Business environment, Human Capital, Infrastructure, Financial Sector development and Reputation) along which the IFCs can be compared. The objectif of this article is to understand one aspect of the Human Capital: the level of quality of life, in order to assess whether there is a disparity between those IFCs.\n\nEven though the quality of life does not give a full picture, I think it may give to financial profesionnals and strategic planner (in Financial Institutions) an insight on where they should increase their presence.  "
        },
        {
            "cell_type": "markdown",
            "metadata": {},
            "source": "## Data sourcing <a name=\"data\"></a>"
        },
        {
            "cell_type": "code",
            "execution_count": null,
            "metadata": {},
            "outputs": [],
            "source": ""
        }
    ],
    "metadata": {
        "kernelspec": {
            "display_name": "Python 3.6",
            "language": "python",
            "name": "python3"
        },
        "language_info": {
            "codemirror_mode": {
                "name": "ipython",
                "version": 3
            },
            "file_extension": ".py",
            "mimetype": "text/x-python",
            "name": "python",
            "nbconvert_exporter": "python",
            "pygments_lexer": "ipython3",
            "version": "3.6.9"
        }
    },
    "nbformat": 4,
    "nbformat_minor": 1
}